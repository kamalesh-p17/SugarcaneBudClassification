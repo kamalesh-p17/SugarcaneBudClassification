{
 "cells": [
  {
   "cell_type": "code",
   "execution_count": 1,
   "id": "f9196b14-3e6a-4f46-b9cf-d6deff652e27",
   "metadata": {},
   "outputs": [
    {
     "name": "stderr",
     "output_type": "stream",
     "text": [
      "Downloading: \"https://github.com/ultralytics/yolov5/zipball/master\" to C:\\Users\\smsan/.cache\\torch\\hub\\master.zip\n",
      "YOLOv5  2025-6-6 Python-3.12.6 torch-2.4.1+cpu CPU\n",
      "\n",
      "Fusing layers... \n",
      "Model summary: 157 layers, 7053277 parameters, 0 gradients, 15.9 GFLOPs\n",
      "Adding AutoShape... \n",
      "WARNING:absl:Compiled the loaded model, but the compiled metrics have yet to be built. `model.compile_metrics` will be empty until you train or evaluate the model.\n"
     ]
    }
   ],
   "source": [
    "import pathlib\n",
    "import sys\n",
    "import cv2\n",
    "import torch\n",
    "import numpy as np\n",
    "from PIL import Image\n",
    "from tensorflow.keras.models import load_model\n",
    "from tensorflow.keras.preprocessing.image import img_to_array\n",
    "from tensorflow.keras.applications.mobilenet_v2 import preprocess_input\n",
    "\n",
    "# Fix WindowsPath loading issue\n",
    "if sys.platform != \"win32\":\n",
    "    pathlib.WindowsPath = pathlib.PosixPath\n",
    "\n",
    "# Load YOLOv5 model (runs on CPU/GPU as available)\n",
    "yolo_model = torch.hub.load(\n",
    "    'ultralytics/yolov5',\n",
    "    'custom',\n",
    "    path='E:/sugarcane_bud_classification/best.pt',\n",
    "    force_reload=True\n",
    ")\n",
    "\n",
    "# Load MobileNet classification model\n",
    "mobilenet_model = load_model(\n",
    "    \"E:/sugarcane_bud_classification/mobilenetv1_sugarcane_bud_classifier.h5\"\n",
    ")"
   ]
  },
  {
   "cell_type": "code",
   "execution_count": 2,
   "id": "c5044e23-1e42-410f-bf59-f7451f4a33a6",
   "metadata": {},
   "outputs": [
    {
     "name": "stdout",
     "output_type": "stream",
     "text": [
      "Error: Cannot open stream http://192.168.225.88:8080/video\n"
     ]
    },
    {
     "ename": "SystemExit",
     "evalue": "1",
     "output_type": "error",
     "traceback": [
      "An exception has occurred, use %tb to see the full traceback.\n",
      "\u001b[1;31mSystemExit\u001b[0m\u001b[1;31m:\u001b[0m 1\n"
     ]
    }
   ],
   "source": [
    "# Classification labels\n",
    "class_names = ['Grade A', 'Grade B', 'Grade C']\n",
    "\n",
    "# URL of the IP Webcam stream (replace with your stream URL)\n",
    "ip_stream_url = 'http://192.168.225.88:8080/video'\n",
    "\n",
    "# Open the video capture\n",
    "cap = cv2.VideoCapture(ip_stream_url)\n",
    "if not cap.isOpened():\n",
    "    print(f\"Error: Cannot open stream {ip_stream_url}\")\n",
    "    sys.exit(1)\n",
    "\n",
    "print(\"Press 'q' to quit.\")\n",
    "while True:\n",
    "    ret, frame = cap.read()\n",
    "    if not ret:\n",
    "        print(\"Failed to grab frame\")\n",
    "        break\n",
    "\n",
    "    # Convert BGR to RGB\n",
    "    rgb_frame = cv2.cvtColor(frame, cv2.COLOR_BGR2RGB)\n",
    "\n",
    "    # Run YOLOv5 detection\n",
    "    results = yolo_model(rgb_frame)\n",
    "    detections = results.pandas().xyxy[0]\n",
    "\n",
    "    # Process each detection\n",
    "    for _, row in detections.iterrows():\n",
    "        x1, y1, x2, y2 = map(int, (row['xmin'], row['ymin'], row['xmax'], row['ymax']))\n",
    "\n",
    "        # Crop and preprocess for classification\n",
    "        crop = rgb_frame[y1:y2, x1:x2]\n",
    "        if crop.size == 0:\n",
    "            continue\n",
    "        crop_resized = cv2.resize(crop, (224, 224))\n",
    "        image_array = img_to_array(crop_resized)\n",
    "        image_array = preprocess_input(image_array)\n",
    "        image_array = np.expand_dims(image_array, axis=0)\n",
    "\n",
    "        # Predict grade\n",
    "        preds = mobilenet_model.predict(image_array, verbose=0)\n",
    "        class_index = np.argmax(preds[0])\n",
    "        label = class_names[class_index]\n",
    "\n",
    "        # Draw bounding box and label on the original BGR frame\n",
    "        cv2.rectangle(frame, (x1, y1), (x2, y2), (0, 255, 0), 3)\n",
    "        font_scale = 1\n",
    "        thickness = 2\n",
    "        (w, h), _ = cv2.getTextSize(label, cv2.FONT_HERSHEY_SIMPLEX, font_scale, thickness)\n",
    "        cv2.rectangle(frame, (x1, y1 - h - 10), (x1 + w, y1), (0, 255, 0), cv2.FILLED)\n",
    "        cv2.putText(frame, label, (x1, y1 - 5), cv2.FONT_HERSHEY_SIMPLEX, font_scale, (0, 0, 0), thickness)\n",
    "\n",
    "    # Display the resulting frame\n",
    "    cv2.imshow('Live Sugarcane Bud Grading', frame)\n",
    "\n",
    "    # Press 'q' to exit\n",
    "    if cv2.waitKey(1) & 0xFF == ord('q'):\n",
    "        break\n",
    "\n",
    "# Release resources\n",
    "cap.release()\n",
    "cv2.destroyAllWindows()\n"
   ]
  },
  {
   "cell_type": "code",
   "execution_count": null,
   "id": "894c8df6-70cf-48b1-adfa-9c0ee9eaefe8",
   "metadata": {},
   "outputs": [],
   "source": []
  }
 ],
 "metadata": {
  "kernelspec": {
   "display_name": "Python 3 (ipykernel)",
   "language": "python",
   "name": "python3"
  },
  "language_info": {
   "codemirror_mode": {
    "name": "ipython",
    "version": 3
   },
   "file_extension": ".py",
   "mimetype": "text/x-python",
   "name": "python",
   "nbconvert_exporter": "python",
   "pygments_lexer": "ipython3",
   "version": "3.12.6"
  }
 },
 "nbformat": 4,
 "nbformat_minor": 5
}
